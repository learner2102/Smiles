{
 "cells": [
  {
   "cell_type": "code",
   "execution_count": 1,
   "metadata": {},
   "outputs": [],
   "source": [
    "import cv2"
   ]
  },
  {
   "cell_type": "code",
   "execution_count": 2,
   "metadata": {},
   "outputs": [],
   "source": [
    "face_cascade = cv2.CascadeClassifier('face.xml')  #to detect the face\n",
    "eye_cascade = cv2.CascadeClassifier('eye.xml')  # to detect the eyes\n",
    "smile_cascade = cv2.CascadeClassifier('smile.xml')  # to detect the smiles"
   ]
  },
  {
   "cell_type": "code",
   "execution_count": 13,
   "metadata": {},
   "outputs": [],
   "source": [
    "def detect(gray, frame): \n",
    "    faces = face_cascade.detectMultiScale(gray, 1.3, 5) \n",
    "    for (x, y, w, h) in faces: \n",
    "        cv2.rectangle(frame, (x, y), ((x + w), (y + h)), (255, 0, 0), 2) \n",
    "        roi_gray = gray[y:y + h, x:x + w] \n",
    "        roi_color = frame[y:y + h, x:x + w] \n",
    "        #single_face = img[y:y+h,x:x+w] \n",
    "        eyes = eye_cascade.detectMultiScale(roi_gray)  # to detect the eyes \n",
    "        for ex,ey,ew,eh in eyes:\n",
    "            cv2.rectangle(roi_color,(ex,ey),(ex+ew,ey+eh),(0,0,255),2)  # rect for eyes\n",
    "        smiles = smile_cascade.detectMultiScale(roi_gray,1.8,20) \n",
    "  \n",
    "        for (sx, sy, sw, sh) in smiles: \n",
    "            cv2.rectangle(roi_color, (sx, sy), ((sx + sw), (sy + sh)), (127, 127, 0), 2) \n",
    "    return frame "
   ]
  },
  {
   "cell_type": "code",
   "execution_count": 14,
   "metadata": {},
   "outputs": [],
   "source": [
    "video_capture = cv2.VideoCapture(0) \n",
    "while True: \n",
    "   # Captures video_capture frame by frame \n",
    "    _, frame = video_capture.read()  \n",
    "  \n",
    "    # To capture image in monochrome                     \n",
    "    gray = cv2.cvtColor(frame, cv2.COLOR_BGR2GRAY)   \n",
    "      \n",
    "    # calls the detect() function     \n",
    "    canvas = detect(gray, frame)    \n",
    "  \n",
    "    # Displays the result on camera feed                      \n",
    "    cv2.imshow('Video', canvas)  \n",
    "  \n",
    "    # close when enter is pressed                        \n",
    "    if cv2.waitKey(1) ==13:\n",
    "        break\n",
    "  \n",
    "\n",
    "video_capture.release()    #release the camera                              \n",
    "cv2.destroyAllWindows()  #close the window"
   ]
  },
  {
   "cell_type": "code",
   "execution_count": null,
   "metadata": {},
   "outputs": [],
   "source": []
  }
 ],
 "metadata": {
  "kernelspec": {
   "display_name": "Python 3",
   "language": "python",
   "name": "python3"
  },
  "language_info": {
   "codemirror_mode": {
    "name": "ipython",
    "version": 3
   },
   "file_extension": ".py",
   "mimetype": "text/x-python",
   "name": "python",
   "nbconvert_exporter": "python",
   "pygments_lexer": "ipython3",
   "version": "3.7.3"
  }
 },
 "nbformat": 4,
 "nbformat_minor": 2
}
